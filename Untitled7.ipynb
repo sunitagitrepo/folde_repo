{
 "cells": [
  {
   "cell_type": "code",
   "execution_count": 13,
   "id": "89649b5b-4751-4ce6-a54a-51d72178fa53",
   "metadata": {},
   "outputs": [
    {
     "data": {
      "text/plain": [
       "'hello'"
      ]
     },
     "execution_count": 13,
     "metadata": {},
     "output_type": "execute_result"
    }
   ],
   "source": [
    "a=\"hello\"\n",
    "a"
   ]
  },
  {
   "cell_type": "code",
   "execution_count": 14,
   "id": "2032e644-2424-4065-a5fb-d897975dd6ee",
   "metadata": {},
   "outputs": [
    {
     "data": {
      "text/plain": [
       "str"
      ]
     },
     "execution_count": 14,
     "metadata": {},
     "output_type": "execute_result"
    }
   ],
   "source": [
    "type(a)"
   ]
  },
  {
   "cell_type": "code",
   "execution_count": 19,
   "id": "e94f4a7f-903d-43a0-9cde-747d736de13c",
   "metadata": {},
   "outputs": [],
   "source": []
  },
  {
   "cell_type": "code",
   "execution_count": 35,
   "id": "ef937ea5-3087-47e2-8d0c-fc8b6fe473a0",
   "metadata": {},
   "outputs": [
    {
     "data": {
      "text/plain": [
       "float"
      ]
     },
     "execution_count": 35,
     "metadata": {},
     "output_type": "execute_result"
    }
   ],
   "source": [
    "a=10.5\n",
    "type(a)\n"
   ]
  },
  {
   "cell_type": "code",
   "execution_count": 37,
   "id": "ead57e9e-c722-4649-895c-be38d541af6a",
   "metadata": {},
   "outputs": [
    {
     "data": {
      "text/plain": [
       "2364694059856"
      ]
     },
     "execution_count": 37,
     "metadata": {},
     "output_type": "execute_result"
    }
   ],
   "source": [
    "id(a)"
   ]
  },
  {
   "cell_type": "code",
   "execution_count": 43,
   "id": "b27ec57e-6979-44de-9afd-a05afd2f1673",
   "metadata": {},
   "outputs": [
    {
     "data": {
      "text/plain": [
       "140703255247576"
      ]
     },
     "execution_count": 43,
     "metadata": {},
     "output_type": "execute_result"
    }
   ],
   "source": [
    "b=10\n",
    "id(b)"
   ]
  },
  {
   "cell_type": "code",
   "execution_count": 45,
   "id": "66c9e557-6aec-4c6a-bd32-4f3312576ea1",
   "metadata": {},
   "outputs": [
    {
     "name": "stdout",
     "output_type": "stream",
     "text": [
      "\n",
      "Here is a list of the Python keywords.  Enter any keyword to get more help.\n",
      "\n",
      "False               class               from                or\n",
      "None                continue            global              pass\n",
      "True                def                 if                  raise\n",
      "and                 del                 import              return\n",
      "as                  elif                in                  try\n",
      "assert              else                is                  while\n",
      "async               except              lambda              with\n",
      "await               finally             nonlocal            yield\n",
      "break               for                 not                 \n",
      "\n"
     ]
    }
   ],
   "source": [
    "help(\"keywords\")"
   ]
  },
  {
   "cell_type": "code",
   "execution_count": 47,
   "id": "c0219905-ea17-4995-81fb-f4255e77a86a",
   "metadata": {},
   "outputs": [
    {
     "name": "stdout",
     "output_type": "stream",
     "text": [
      "No Python documentation found for 'functions'.\n",
      "Use help() to get the interactive help utility.\n",
      "Use help(str) for help on the str class.\n",
      "\n"
     ]
    }
   ],
   "source": [
    "help(\"functions\")"
   ]
  },
  {
   "cell_type": "code",
   "execution_count": 49,
   "id": "4b16d482-247a-4b4c-9e8e-30dc780339dc",
   "metadata": {},
   "outputs": [],
   "source": [
    "a=10\n",
    "b=20"
   ]
  },
  {
   "cell_type": "code",
   "execution_count": 51,
   "id": "b2dba0fd-6901-419d-bca8-5b31e9d6154a",
   "metadata": {},
   "outputs": [
    {
     "name": "stdout",
     "output_type": "stream",
     "text": [
      "30\n"
     ]
    }
   ],
   "source": [
    "print(a+b)"
   ]
  },
  {
   "cell_type": "code",
   "execution_count": 53,
   "id": "51a330ef-fc7c-43e6-8b59-91aa9c85aedd",
   "metadata": {},
   "outputs": [
    {
     "name": "stdout",
     "output_type": "stream",
     "text": [
      "-10\n"
     ]
    }
   ],
   "source": [
    "print(a-b)"
   ]
  },
  {
   "cell_type": "code",
   "execution_count": 55,
   "id": "85fab71e-63e4-451b-8afa-4b07f37f0fe1",
   "metadata": {},
   "outputs": [
    {
     "data": {
      "text/plain": [
       "True"
      ]
     },
     "execution_count": 55,
     "metadata": {},
     "output_type": "execute_result"
    }
   ],
   "source": [
    "(a<b)"
   ]
  },
  {
   "cell_type": "code",
   "execution_count": 57,
   "id": "0305388d-a341-430c-9a24-d3b58c468c06",
   "metadata": {},
   "outputs": [
    {
     "data": {
      "text/plain": [
       "False"
      ]
     },
     "execution_count": 57,
     "metadata": {},
     "output_type": "execute_result"
    }
   ],
   "source": [
    "(a>=b)"
   ]
  },
  {
   "cell_type": "code",
   "execution_count": 59,
   "id": "a869f6fd-e5ce-4888-af4d-f95eb8b96c55",
   "metadata": {},
   "outputs": [
    {
     "data": {
      "text/plain": [
       "True"
      ]
     },
     "execution_count": 59,
     "metadata": {},
     "output_type": "execute_result"
    }
   ],
   "source": [
    "(a!=b)"
   ]
  },
  {
   "cell_type": "code",
   "execution_count": 61,
   "id": "618a0107-1d11-4293-a9af-4bdf20123511",
   "metadata": {},
   "outputs": [
    {
     "data": {
      "text/plain": [
       "False"
      ]
     },
     "execution_count": 61,
     "metadata": {},
     "output_type": "execute_result"
    }
   ],
   "source": [
    "(a==b)"
   ]
  },
  {
   "cell_type": "code",
   "execution_count": 76,
   "id": "436291b0-df3e-4993-93a6-6ea6199b148d",
   "metadata": {},
   "outputs": [
    {
     "data": {
      "text/plain": [
       "30"
      ]
     },
     "execution_count": 76,
     "metadata": {},
     "output_type": "execute_result"
    }
   ],
   "source": [
    "a=10\n",
    "a=a+10\n",
    "a\n",
    "a +=10\n",
    "a"
   ]
  },
  {
   "cell_type": "code",
   "execution_count": 80,
   "id": "6877e0f2-ad18-43f3-9420-838819b4386d",
   "metadata": {},
   "outputs": [],
   "source": [
    "r=\"rohit\""
   ]
  },
  {
   "cell_type": "code",
   "execution_count": 82,
   "id": "9690c1bb-30a7-42f0-99df-72ebe19e7a9e",
   "metadata": {},
   "outputs": [
    {
     "data": {
      "text/plain": [
       "True"
      ]
     },
     "execution_count": 82,
     "metadata": {},
     "output_type": "execute_result"
    }
   ],
   "source": [
    "'i' in r"
   ]
  },
  {
   "cell_type": "code",
   "execution_count": 88,
   "id": "760af15a-1fab-4a98-903b-f416d09dd236",
   "metadata": {},
   "outputs": [
    {
     "data": {
      "text/plain": [
       "False"
      ]
     },
     "execution_count": 88,
     "metadata": {},
     "output_type": "execute_result"
    }
   ],
   "source": [
    "'k' in r"
   ]
  },
  {
   "cell_type": "code",
   "execution_count": null,
   "id": "4db7ebd2-1e97-4fd9-a0c9-07a167c0dd01",
   "metadata": {},
   "outputs": [],
   "source": []
  }
 ],
 "metadata": {
  "kernelspec": {
   "display_name": "Python 3 (ipykernel)",
   "language": "python",
   "name": "python3"
  },
  "language_info": {
   "codemirror_mode": {
    "name": "ipython",
    "version": 3
   },
   "file_extension": ".py",
   "mimetype": "text/x-python",
   "name": "python",
   "nbconvert_exporter": "python",
   "pygments_lexer": "ipython3",
   "version": "3.12.4"
  }
 },
 "nbformat": 4,
 "nbformat_minor": 5
}
